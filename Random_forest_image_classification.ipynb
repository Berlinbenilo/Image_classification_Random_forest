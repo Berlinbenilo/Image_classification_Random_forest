{
 "cells": [
  {
   "cell_type": "markdown",
   "id": "358c2eb6",
   "metadata": {},
   "source": [
    "### Packages needs to install"
   ]
  },
  {
   "cell_type": "code",
   "execution_count": 35,
   "id": "a9af626d",
   "metadata": {
    "scrolled": true
   },
   "outputs": [
    {
     "name": "stdout",
     "output_type": "stream",
     "text": [
      "Collecting scikit-image\n",
      "  Downloading scikit_image-0.19.3-cp310-cp310-manylinux_2_17_x86_64.manylinux2014_x86_64.whl (13.9 MB)\n",
      "     |████████████████████████████████| 13.9 MB 754 kB/s            \n",
      "\u001b[?25hCollecting imageio>=2.4.1\n",
      "  Downloading imageio-2.24.0-py3-none-any.whl (3.4 MB)\n",
      "     |████████████████████████████████| 3.4 MB 854 kB/s            \n",
      "\u001b[?25hRequirement already satisfied: pillow!=7.1.0,!=7.1.1,!=8.3.0,>=6.1.0 in /home/berlin/Desktop/pose_3d/venv/lib/python3.10/site-packages (from scikit-image) (9.3.0)\n",
      "Collecting networkx>=2.2\n",
      "  Downloading networkx-3.0-py3-none-any.whl (2.0 MB)\n",
      "     |████████████████████████████████| 2.0 MB 1.5 MB/s            \n",
      "\u001b[?25hRequirement already satisfied: scipy>=1.4.1 in /home/berlin/Desktop/pose_3d/venv/lib/python3.10/site-packages (from scikit-image) (1.9.3)\n",
      "Requirement already satisfied: packaging>=20.0 in /home/berlin/Desktop/pose_3d/venv/lib/python3.10/site-packages (from scikit-image) (22.0)\n",
      "Collecting tifffile>=2019.7.26\n",
      "  Downloading tifffile-2022.10.10-py3-none-any.whl (210 kB)\n",
      "     |████████████████████████████████| 210 kB 967 kB/s            \n",
      "\u001b[?25hRequirement already satisfied: numpy>=1.17.0 in /home/berlin/Desktop/pose_3d/venv/lib/python3.10/site-packages (from scikit-image) (1.24.0)\n",
      "Collecting PyWavelets>=1.1.1\n",
      "  Downloading PyWavelets-1.4.1-cp310-cp310-manylinux_2_17_x86_64.manylinux2014_x86_64.whl (6.8 MB)\n",
      "     |████████████████████████████████| 6.8 MB 941 kB/s            \n",
      "\u001b[?25hInstalling collected packages: tifffile, PyWavelets, networkx, imageio, scikit-image\n",
      "Successfully installed PyWavelets-1.4.1 imageio-2.24.0 networkx-3.0 scikit-image-0.19.3 tifffile-2022.10.10\n",
      "\u001b[33mWARNING: You are using pip version 21.3.1; however, version 22.3.1 is available.\n",
      "You should consider upgrading via the '/home/berlin/Desktop/pose_3d/venv/bin/python -m pip install --upgrade pip' command.\u001b[0m\n"
     ]
    }
   ],
   "source": [
    "!pip install scikit-image scikit-learn matplotlib"
   ]
  },
  {
   "cell_type": "markdown",
   "id": "165c89f7",
   "metadata": {},
   "source": [
    "### Import packages"
   ]
  },
  {
   "cell_type": "code",
   "execution_count": 24,
   "id": "f47de712",
   "metadata": {},
   "outputs": [],
   "source": [
    "import pandas as pd\n",
    "import numpy as np\n",
    "import os\n",
    "import joblib\n",
    "\n",
    "from sklearn.model_selection import train_test_split\n",
    "\n",
    "from skimage.io import imread\n",
    "from skimage.transform import resize"
   ]
  },
  {
   "cell_type": "code",
   "execution_count": null,
   "id": "5b4cc5a0",
   "metadata": {},
   "outputs": [],
   "source": [
    "# Directorty path settings\n",
    "data_path = \"/home/berlin/Desktop/gayathri/data/\"\n",
    "os.listdir(data_path)"
   ]
  },
  {
   "cell_type": "markdown",
   "id": "528fafe7",
   "metadata": {},
   "source": [
    "### Preprocessing"
   ]
  },
  {
   "cell_type": "code",
   "execution_count": 49,
   "id": "953bea67",
   "metadata": {},
   "outputs": [],
   "source": [
    "def resize_all(src, pklname, include, width=150, height=None):    \n",
    "    height = height if height is not None else width\n",
    "     \n",
    "    data = dict()\n",
    "    data['description'] = 'resized ({0}x{1})animal images in rgb'.format(int(width), int(height))\n",
    "    data['label'] = []\n",
    "    data['filename'] = []\n",
    "    data['data'] = []   \n",
    "     \n",
    "    pklname = f\"{pklname}_{width}x{height}px.pkl\"\n",
    " \n",
    "    # read all images in PATH, resize and write to DESTINATION_PATH\n",
    "    for subdir in os.listdir(src):\n",
    "        if subdir in include:\n",
    "            print(subdir)\n",
    "            current_path = os.path.join(src, subdir)\n",
    " \n",
    "            for file in os.listdir(current_path):\n",
    "                if file[-3:] in {'jpg', 'png'}:\n",
    "                    im = imread(os.path.join(current_path, file))\n",
    "                    im = resize(im, (width, height)) #[:,:,::-1]\n",
    "                    data['label'].append(subdir[:])\n",
    "                    data['filename'].append(file)\n",
    "                    data['data'].append(im)\n",
    " \n",
    "        joblib.dump(data, pklname)"
   ]
  },
  {
   "cell_type": "code",
   "execution_count": 51,
   "id": "400f4a8d",
   "metadata": {},
   "outputs": [
    {
     "name": "stdout",
     "output_type": "stream",
     "text": [
      "22_27_hp\n",
      "16_21_np\n",
      "10_15_np\n",
      "28_34_hp\n"
     ]
    }
   ],
   "source": [
    "base_name = 'pressure'\n",
    "width = 80\n",
    "include = {'22_27_hp', '16_21_np', '10_15_np', '28_34_hp'\n",
    "resize_all(src=data_path, pklname=base_name, width=width, include=include)"
   ]
  },
  {
   "cell_type": "code",
   "execution_count": 52,
   "id": "540592bd",
   "metadata": {},
   "outputs": [
    {
     "name": "stdout",
     "output_type": "stream",
     "text": [
      "number of samples:  912\n",
      "keys:  ['description', 'label', 'filename', 'data']\n",
      "description:  resized (80x80)animal images in rgb\n",
      "image shape:  (80, 80)\n",
      "labels: ['10_15_np' '16_21_np' '22_27_hp' '28_34_hp']\n"
     ]
    },
    {
     "data": {
      "text/plain": [
       "Counter({'22_27_hp': 228, '16_21_np': 228, '10_15_np': 228, '28_34_hp': 228})"
      ]
     },
     "execution_count": 52,
     "metadata": {},
     "output_type": "execute_result"
    }
   ],
   "source": [
    "from collections import Counter\n",
    " \n",
    "data = joblib.load(f'{base_name}_{width}x{width}px.pkl')\n",
    " \n",
    "print('number of samples: ', len(data['data']))\n",
    "print('keys: ', list(data.keys()))\n",
    "print('description: ', data['description'])\n",
    "print('image shape: ', data['data'][0].shape)\n",
    "print('labels:', np.unique(data['label']))\n",
    "\n",
    "Counter(data['label'])"
   ]
  },
  {
   "cell_type": "code",
   "execution_count": 55,
   "id": "65062414",
   "metadata": {},
   "outputs": [
    {
     "data": {
      "image/png": "[encoded data removed]",
      "text/plain": [
       "<Figure size 1500x400 with 4 Axes>"
      ]
     },
     "metadata": {},
     "output_type": "display_data"
    }
   ],
   "source": [
    "import matplotlib.pyplot as plt\n",
    "# use np.unique to get all unique values in the list of labels\n",
    "labels = np.unique(data['label'])\n",
    " \n",
    "# set up the matplotlib figure and axes, based on the number of labels\n",
    "fig, axes = plt.subplots(1, len(labels))\n",
    "fig.set_size_inches(15,4)\n",
    "fig.tight_layout()\n",
    " \n",
    "# make a plot for every label (equipment) type. The index method returns the \n",
    "# index of the first item corresponding to its search string, label in this case\n",
    "for ax, label in zip(axes, labels):\n",
    "    idx = data['label'].index(label)\n",
    "     \n",
    "    ax.imshow(data['data'][idx])\n",
    "    ax.axis('off')\n",
    "    ax.set_title(label)"
   ]
  },
  {
   "cell_type": "code",
   "execution_count": 56,
   "id": "2ea81126",
   "metadata": {},
   "outputs": [
    {
     "data": {
      "text/plain": [
       "array(['10_15_np', '16_21_np', '22_27_hp', '28_34_hp'], dtype='<U8')"
      ]
     },
     "execution_count": 56,
     "metadata": {},
     "output_type": "execute_result"
    }
   ],
   "source": [
    "labels"
   ]
  },
  {
   "cell_type": "markdown",
   "id": "48ca7d91",
   "metadata": {},
   "source": [
    "### Train test splitting"
   ]
  },
  {
   "cell_type": "code",
   "execution_count": 124,
   "id": "62669193",
   "metadata": {},
   "outputs": [],
   "source": [
    "X = np.array(data['data'])\n",
    "y = np.array(data['label'])"
   ]
  },
  {
   "cell_type": "code",
   "execution_count": 125,
   "id": "8a468ebb",
   "metadata": {},
   "outputs": [],
   "source": [
    "X_train, X_test, y_train, y_test = train_test_split(\n",
    "    X, \n",
    "    y, \n",
    "    test_size=0.2, \n",
    "    shuffle=True,\n",
    "    random_state=42,\n",
    ")"
   ]
  },
  {
   "cell_type": "code",
   "execution_count": 126,
   "id": "e66b7392",
   "metadata": {},
   "outputs": [
    {
     "data": {
      "image/png": "[encoded data removed]",
      "text/plain": [
       "<Figure size 640x480 with 1 Axes>"
      ]
     },
     "metadata": {},
     "output_type": "display_data"
    }
   ],
   "source": [
    "def plot_bar(y, loc='left', relative=True):\n",
    "    width = 0.35\n",
    "    if loc == 'left':\n",
    "        n = -0.5\n",
    "    elif loc == 'right':\n",
    "        n = 0.5\n",
    "     \n",
    "    # calculate counts per type and sort, to ensure their order\n",
    "    unique, counts = np.unique(y, return_counts=True)\n",
    "    sorted_index = np.argsort(unique)\n",
    "    unique = unique[sorted_index]\n",
    "     \n",
    "    if relative:\n",
    "        # plot as a percentage\n",
    "        counts = 100*counts[sorted_index]/len(y)\n",
    "        ylabel_text = '% count'\n",
    "    else:\n",
    "        # plot counts\n",
    "        counts = counts[sorted_index]\n",
    "        ylabel_text = 'count'\n",
    "         \n",
    "    xtemp = np.arange(len(unique))\n",
    "     \n",
    "    plt.bar(xtemp + n*width, counts, align='center', alpha=.7, width=width)\n",
    "    plt.xticks(xtemp, unique, rotation=45)\n",
    "    plt.xlabel('equipment type')\n",
    "    plt.ylabel(ylabel_text)\n",
    " \n",
    "plt.suptitle('relative amount of photos per type')\n",
    "plot_bar(y_train, loc='left')\n",
    "plot_bar(y_test, loc='right')\n",
    "plt.legend([\n",
    "    'train ({0} photos)'.format(len(y_train)), \n",
    "    'test ({0} photos)'.format(len(y_test))\n",
    "]);"
   ]
  },
  {
   "cell_type": "markdown",
   "id": "d32019bb",
   "metadata": {},
   "source": [
    "### Normalization"
   ]
  },
  {
   "cell_type": "code",
   "execution_count": 127,
   "id": "a8b0b65f",
   "metadata": {},
   "outputs": [],
   "source": [
    "x_train = X_train/255.0\n",
    "x_test = X_test/255.0"
   ]
  },
  {
   "cell_type": "code",
   "execution_count": 128,
   "id": "199d3c97",
   "metadata": {},
   "outputs": [
    {
     "data": {
      "text/plain": [
       "(729, 80, 80)"
      ]
     },
     "execution_count": 128,
     "metadata": {},
     "output_type": "execute_result"
    }
   ],
   "source": [
    "x_train.shape"
   ]
  },
  {
   "cell_type": "code",
   "execution_count": 129,
   "id": "007a334b",
   "metadata": {},
   "outputs": [],
   "source": [
    "nsamples, nx, ny = x_train.shape\n",
    "x_train2 = x_train.reshape((nsamples,nx*ny))"
   ]
  },
  {
   "cell_type": "code",
   "execution_count": 130,
   "id": "0b098f82",
   "metadata": {},
   "outputs": [],
   "source": [
    "nsamples, nx, ny = x_test.shape\n",
    "x_test2 = x_test.reshape((nsamples,nx*ny))"
   ]
  },
  {
   "cell_type": "markdown",
   "id": "bdae29c4",
   "metadata": {},
   "source": [
    "### Random forest classifier"
   ]
  },
  {
   "cell_type": "code",
   "execution_count": 131,
   "id": "02380a1c",
   "metadata": {},
   "outputs": [],
   "source": [
    "from sklearn.ensemble import RandomForestClassifier"
   ]
  },
  {
   "cell_type": "code",
   "execution_count": 132,
   "id": "2e27e580",
   "metadata": {},
   "outputs": [],
   "source": [
    "model=RandomForestClassifier()"
   ]
  },
  {
   "cell_type": "code",
   "execution_count": 133,
   "id": "dafa6040",
   "metadata": {},
   "outputs": [
    {
     "data": {
      "text/html": [
       "<style>#sk-container-id-2 {color: black;background-color: white;}#sk-container-id-2 pre{padding: 0;}#sk-container-id-2 div.sk-toggleable {background-color: white;}#sk-container-id-2 label.sk-toggleable__label {cursor: pointer;display: block;width: 100%;margin-bottom: 0;padding: 0.3em;box-sizing: border-box;text-align: center;}#sk-container-id-2 label.sk-toggleable__label-arrow:before {content: \"▸\";float: left;margin-right: 0.25em;color: #696969;}#sk-container-id-2 label.sk-toggleable__label-arrow:hover:before {color: black;}#sk-container-id-2 div.sk-estimator:hover label.sk-toggleable__label-arrow:before {color: black;}#sk-container-id-2 div.sk-toggleable__content {max-height: 0;max-width: 0;overflow: hidden;text-align: left;background-color: #f0f8ff;}#sk-container-id-2 div.sk-toggleable__content pre {margin: 0.2em;color: black;border-radius: 0.25em;background-color: #f0f8ff;}#sk-container-id-2 input.sk-toggleable__control:checked~div.sk-toggleable__content {max-height: 200px;max-width: 100%;overflow: auto;}#sk-container-id-2 input.sk-toggleable__control:checked~label.sk-toggleable__label-arrow:before {content: \"▾\";}#sk-container-id-2 div.sk-estimator input.sk-toggleable__control:checked~label.sk-toggleable__label {background-color: #d4ebff;}#sk-container-id-2 div.sk-label input.sk-toggleable__control:checked~label.sk-toggleable__label {background-color: #d4ebff;}#sk-container-id-2 input.sk-hidden--visually {border: 0;clip: rect(1px 1px 1px 1px);clip: rect(1px, 1px, 1px, 1px);height: 1px;margin: -1px;overflow: hidden;padding: 0;position: absolute;width: 1px;}#sk-container-id-2 div.sk-estimator {font-family: monospace;background-color: #f0f8ff;border: 1px dotted black;border-radius: 0.25em;box-sizing: border-box;margin-bottom: 0.5em;}#sk-container-id-2 div.sk-estimator:hover {background-color: #d4ebff;}#sk-container-id-2 div.sk-parallel-item::after {content: \"\";width: 100%;border-bottom: 1px solid gray;flex-grow: 1;}#sk-container-id-2 div.sk-label:hover label.sk-toggleable__label {background-color: #d4ebff;}#sk-container-id-2 div.sk-serial::before {content: \"\";position: absolute;border-left: 1px solid gray;box-sizing: border-box;top: 0;bottom: 0;left: 50%;z-index: 0;}#sk-container-id-2 div.sk-serial {display: flex;flex-direction: column;align-items: center;background-color: white;padding-right: 0.2em;padding-left: 0.2em;position: relative;}#sk-container-id-2 div.sk-item {position: relative;z-index: 1;}#sk-container-id-2 div.sk-parallel {display: flex;align-items: stretch;justify-content: center;background-color: white;position: relative;}#sk-container-id-2 div.sk-item::before, #sk-container-id-2 div.sk-parallel-item::before {content: \"\";position: absolute;border-left: 1px solid gray;box-sizing: border-box;top: 0;bottom: 0;left: 50%;z-index: -1;}#sk-container-id-2 div.sk-parallel-item {display: flex;flex-direction: column;z-index: 1;position: relative;background-color: white;}#sk-container-id-2 div.sk-parallel-item:first-child::after {align-self: flex-end;width: 50%;}#sk-container-id-2 div.sk-parallel-item:last-child::after {align-self: flex-start;width: 50%;}#sk-container-id-2 div.sk-parallel-item:only-child::after {width: 0;}#sk-container-id-2 div.sk-dashed-wrapped {border: 1px dashed gray;margin: 0 0.4em 0.5em 0.4em;box-sizing: border-box;padding-bottom: 0.4em;background-color: white;}#sk-container-id-2 div.sk-label label {font-family: monospace;font-weight: bold;display: inline-block;line-height: 1.2em;}#sk-container-id-2 div.sk-label-container {text-align: center;}#sk-container-id-2 div.sk-container {/* jupyter's `normalize.less` sets `[hidden] { display: none; }` but bootstrap.min.css set `[hidden] { display: none !important; }` so we also need the `!important` here to be able to override the default hidden behavior on the sphinx rendered scikit-learn.org. See: https://github.com/scikit-learn/scikit-learn/issues/21755 */display: inline-block !important;position: relative;}#sk-container-id-2 div.sk-text-repr-fallback {display: none;}</style><div id=\"sk-container-id-2\" class=\"sk-top-container\"><div class=\"sk-text-repr-fallback\"><pre>RandomForestClassifier()</pre><b>In a Jupyter environment, please rerun this cell to show the HTML representation or trust the notebook. <br />On GitHub, the HTML representation is unable to render, please try loading this page with nbviewer.org.</b></div><div class=\"sk-container\" hidden><div class=\"sk-item\"><div class=\"sk-estimator sk-toggleable\"><input class=\"sk-toggleable__control sk-hidden--visually\" id=\"sk-estimator-id-2\" type=\"checkbox\" checked><label for=\"sk-estimator-id-2\" class=\"sk-toggleable__label sk-toggleable__label-arrow\">RandomForestClassifier</label><div class=\"sk-toggleable__content\"><pre>RandomForestClassifier()</pre></div></div></div></div></div>"
      ],
      "text/plain": [
       "RandomForestClassifier()"
      ]
     },
     "execution_count": 133,
     "metadata": {},
     "output_type": "execute_result"
    }
   ],
   "source": [
    "model.fit(x_train2,y_train)"
   ]
  },
  {
   "cell_type": "code",
   "execution_count": 134,
   "id": "2864a8ac",
   "metadata": {},
   "outputs": [
    {
     "data": {
      "text/plain": [
       "array(['10_15_np', '28_34_hp', '10_15_np', '16_21_np', '16_21_np',\n",
       "       '28_34_hp', '16_21_np', '10_15_np', '16_21_np', '22_27_hp',\n",
       "       '28_34_hp', '28_34_hp', '28_34_hp', '22_27_hp', '10_15_np',\n",
       "       '22_27_hp', '10_15_np', '10_15_np', '10_15_np', '22_27_hp',\n",
       "       '28_34_hp', '10_15_np', '10_15_np', '28_34_hp', '22_27_hp',\n",
       "       '22_27_hp', '16_21_np', '28_34_hp', '16_21_np', '28_34_hp',\n",
       "       '16_21_np', '28_34_hp', '10_15_np', '10_15_np', '28_34_hp',\n",
       "       '16_21_np', '22_27_hp', '16_21_np', '10_15_np', '22_27_hp',\n",
       "       '10_15_np', '10_15_np', '16_21_np', '10_15_np', '10_15_np',\n",
       "       '16_21_np', '28_34_hp', '22_27_hp', '22_27_hp', '16_21_np',\n",
       "       '16_21_np', '10_15_np', '22_27_hp', '10_15_np', '22_27_hp',\n",
       "       '16_21_np', '28_34_hp', '16_21_np', '10_15_np', '10_15_np',\n",
       "       '22_27_hp', '22_27_hp', '10_15_np', '28_34_hp', '28_34_hp',\n",
       "       '28_34_hp', '16_21_np', '10_15_np', '16_21_np', '10_15_np',\n",
       "       '22_27_hp', '16_21_np', '16_21_np', '28_34_hp', '10_15_np',\n",
       "       '16_21_np', '10_15_np', '10_15_np', '28_34_hp', '10_15_np',\n",
       "       '22_27_hp', '22_27_hp', '28_34_hp', '22_27_hp', '10_15_np',\n",
       "       '22_27_hp', '22_27_hp', '28_34_hp', '22_27_hp', '16_21_np',\n",
       "       '28_34_hp', '16_21_np', '28_34_hp', '16_21_np', '10_15_np',\n",
       "       '10_15_np', '22_27_hp', '22_27_hp', '28_34_hp', '22_27_hp',\n",
       "       '22_27_hp', '16_21_np', '28_34_hp', '10_15_np', '16_21_np',\n",
       "       '10_15_np', '28_34_hp', '16_21_np', '16_21_np', '10_15_np',\n",
       "       '16_21_np', '22_27_hp', '10_15_np', '10_15_np', '22_27_hp',\n",
       "       '28_34_hp', '10_15_np', '10_15_np', '28_34_hp', '28_34_hp',\n",
       "       '28_34_hp', '22_27_hp', '10_15_np', '22_27_hp', '16_21_np',\n",
       "       '16_21_np', '10_15_np', '10_15_np', '16_21_np', '22_27_hp',\n",
       "       '10_15_np', '16_21_np', '10_15_np', '28_34_hp', '10_15_np',\n",
       "       '10_15_np', '10_15_np', '22_27_hp', '28_34_hp', '16_21_np',\n",
       "       '10_15_np', '16_21_np', '22_27_hp', '28_34_hp', '10_15_np',\n",
       "       '22_27_hp', '10_15_np', '16_21_np', '10_15_np', '16_21_np',\n",
       "       '28_34_hp', '16_21_np', '10_15_np', '22_27_hp', '22_27_hp',\n",
       "       '10_15_np', '10_15_np', '10_15_np', '28_34_hp', '22_27_hp',\n",
       "       '22_27_hp', '16_21_np', '22_27_hp', '22_27_hp', '16_21_np',\n",
       "       '16_21_np', '16_21_np', '16_21_np', '10_15_np', '28_34_hp',\n",
       "       '22_27_hp', '22_27_hp', '16_21_np', '16_21_np', '16_21_np',\n",
       "       '28_34_hp', '22_27_hp', '28_34_hp', '16_21_np', '10_15_np',\n",
       "       '28_34_hp', '16_21_np', '28_34_hp'], dtype='<U8')"
      ]
     },
     "execution_count": 134,
     "metadata": {},
     "output_type": "execute_result"
    }
   ],
   "source": [
    "y_pred=model.predict(x_test2)\n",
    "y_pred"
   ]
  },
  {
   "cell_type": "code",
   "execution_count": 168,
   "id": "08e98d95",
   "metadata": {},
   "outputs": [
    {
     "data": {
      "text/plain": [
       "['random_forest.joblib']"
      ]
     },
     "execution_count": 168,
     "metadata": {},
     "output_type": "execute_result"
    }
   ],
   "source": [
    "joblib.dump(model, \"random_forest.joblib\")"
   ]
  },
  {
   "cell_type": "markdown",
   "id": "26a5bf55",
   "metadata": {},
   "source": [
    "### Evalution metrics"
   ]
  },
  {
   "cell_type": "code",
   "execution_count": 135,
   "id": "f52f43ec",
   "metadata": {},
   "outputs": [],
   "source": [
    "from sklearn.metrics import accuracy_score,confusion_matrix,classification_report"
   ]
  },
  {
   "cell_type": "code",
   "execution_count": 136,
   "id": "694678b4",
   "metadata": {
    "scrolled": true
   },
   "outputs": [
    {
     "name": "stdout",
     "output_type": "stream",
     "text": [
      "              precision    recall  f1-score   support\n",
      "\n",
      "    10_15_np       0.96      1.00      0.98        55\n",
      "    16_21_np       1.00      0.96      0.98        47\n",
      "    22_27_hp       0.95      1.00      0.98        42\n",
      "    28_34_hp       1.00      0.95      0.97        39\n",
      "\n",
      "    accuracy                           0.98       183\n",
      "   macro avg       0.98      0.98      0.98       183\n",
      "weighted avg       0.98      0.98      0.98       183\n",
      "\n"
     ]
    }
   ],
   "source": [
    "accuracy_score(y_pred,y_test)\n",
    "print(classification_report(y_pred,y_test))"
   ]
  },
  {
   "cell_type": "code",
   "execution_count": 137,
   "id": "deda7ae4",
   "metadata": {},
   "outputs": [
    {
     "data": {
      "text/plain": [
       "array([[55,  0,  0,  0],\n",
       "       [ 2, 45,  0,  0],\n",
       "       [ 0,  0, 42,  0],\n",
       "       [ 0,  0,  2, 37]])"
      ]
     },
     "execution_count": 137,
     "metadata": {},
     "output_type": "execute_result"
    }
   ],
   "source": [
    "# confusion matrix\n",
    "confusion_matrix(y_pred,y_test)"
   ]
  },
  {
   "cell_type": "code",
   "execution_count": null,
   "id": "9f3fe0b1",
   "metadata": {},
   "outputs": [],
   "source": []
  },
  {
   "cell_type": "code",
   "execution_count": null,
   "id": "006329b0",
   "metadata": {},
   "outputs": [],
   "source": []
  },
  {
   "cell_type": "markdown",
   "id": "b855c9e4",
   "metadata": {},
   "source": [
    "### Testing with custom image"
   ]
  },
  {
   "cell_type": "code",
   "execution_count": 169,
   "id": "2fb40aef",
   "metadata": {},
   "outputs": [],
   "source": [
    "loaded_rf = joblib.load(\"random_forest.joblib\")"
   ]
  },
  {
   "cell_type": "code",
   "execution_count": 180,
   "id": "77e99512",
   "metadata": {},
   "outputs": [],
   "source": [
    "img_path = '/home/berlin/Desktop/gayathri/data/22_27_hp/109_OD_wavefront0 (copy).png'\n",
    "im = imread(img_path)\n",
    "im = resize(im, (80,80))/255"
   ]
  },
  {
   "cell_type": "code",
   "execution_count": 181,
   "id": "08e55ee4",
   "metadata": {},
   "outputs": [
    {
     "data": {
      "text/plain": [
       "(80, 80)"
      ]
     },
     "execution_count": 181,
     "metadata": {},
     "output_type": "execute_result"
    }
   ],
   "source": [
    "im.shape"
   ]
  },
  {
   "cell_type": "code",
   "execution_count": 182,
   "id": "a9c1828e",
   "metadata": {},
   "outputs": [],
   "source": [
    "nx, ny = im.shape\n",
    "img_arr2 = im.reshape(1,(nx*ny))"
   ]
  },
  {
   "cell_type": "code",
   "execution_count": 183,
   "id": "98601312",
   "metadata": {},
   "outputs": [],
   "source": [
    "classes = ['10_15_np' '16_21_np' '22_27_hp' '28_34_hp'] # 28 > 16"
   ]
  },
  {
   "cell_type": "code",
   "execution_count": 190,
   "id": "66a40480",
   "metadata": {},
   "outputs": [
    {
     "data": {
      "text/plain": [
       "'22_27_hp'"
      ]
     },
     "execution_count": 190,
     "metadata": {},
     "output_type": "execute_result"
    }
   ],
   "source": [
    "ans=loaded_rf.predict(img_arr2)\n",
    "ans[0]"
   ]
  },
  {
   "cell_type": "code",
   "execution_count": 188,
   "id": "cf5c44df",
   "metadata": {},
   "outputs": [],
   "source": []
  },
  {
   "cell_type": "code",
   "execution_count": null,
   "id": "f5e9680f",
   "metadata": {},
   "outputs": [],
   "source": []
  },
  {
   "cell_type": "code",
   "execution_count": null,
   "id": "9e59a374",
   "metadata": {},
   "outputs": [],
   "source": []
  },
  {
   "cell_type": "code",
   "execution_count": null,
   "id": "d0ec745c",
   "metadata": {},
   "outputs": [],
   "source": []
  }
 ],
 "metadata": {
  "kernelspec": {
   "display_name": "Python 3 (ipykernel)",
   "language": "python",
   "name": "python3"
  },
  "language_info": {
   "codemirror_mode": {
    "name": "ipython",
    "version": 3
   },
   "file_extension": ".py",
   "mimetype": "text/x-python",
   "name": "python",
   "nbconvert_exporter": "python",
   "pygments_lexer": "ipython3",
   "version": "3.10.7"
  }
 },
 "nbformat": 4,
 "nbformat_minor": 5
}
